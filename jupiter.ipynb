{
 "cells": [
  {
   "cell_type": "code",
   "execution_count": null,
   "metadata": {},
   "outputs": [
    {
     "ename": "",
     "evalue": "",
     "output_type": "error",
     "traceback": [
      "\u001b[1;31mRunning cells with 'Python 3.10.5 64-bit' requires ipykernel package.\n",
      "Run the following command to install 'ipykernel' into the Python environment. \n",
      "Command: 'c:/Users/dap/AppData/Local/Programs/Python/Python310/python.exe -m pip install ipykernel -U --user --force-reinstall'"
     ]
    }
   ],
   "source": [
    "2+2z"
   ]
  },
  {
   "cell_type": "markdown",
   "metadata": {},
   "source": [
    "1\tLists are mutable\tTuples are immutable\n",
    "\n",
    "2\tThe implication of iterations is Time-consuming\tThe implication of iterations is comparatively Faster\n",
    "\n",
    "3\tThe list is better for performing operations, such as insertion and deletion.\tTuple data type is appropriate for accessing the elements\n",
    "\n",
    "4\tLists consume more memory\tTuple consumes less memory as compared to the list\n",
    "\n",
    "5\tLists have several built-in methods\tTuple does not have many built-in methods.\n",
    "\n",
    "6\tThe unexpected changes and errors are more likely to occur\tIn tuple, it is hard to take place."
   ]
  },
  {
   "cell_type": "code",
   "execution_count": null,
   "metadata": {},
   "outputs": [],
   "source": [
    "What is a Tuple in Python?\n",
    "A Tuple is also a sequence data type that can contain elements of different data types, but these are immutable in nature. In other words, a tuple is a collection of Python objects separated by commas. The tuple is faster than the list because of static in nature. \n",
    "\n",
    "\n",
    "What is a List in Python?\n",
    "The List is just like the arrays, declared in other languages. Lists need not be homogeneous always which makes it the most powerful tool in Python. In Python, the list is a type of container in Python Data Structures, which is used to store multiple data at the same time. Lists are a useful tool for preserving a sequence of data and further iterating over it. \n",
    "\n"
   ]
  },
  {
   "cell_type": "markdown",
   "metadata": {},
   "source": []
  }
 ],
 "metadata": {
  "kernelspec": {
   "display_name": "Python 3.10.5 64-bit",
   "language": "python",
   "name": "python3"
  },
  "language_info": {
   "name": "python",
   "version": "3.10.5"
  },
  "orig_nbformat": 4,
  "vscode": {
   "interpreter": {
    "hash": "68464b0f171f9ddbdd1841fe45602384f3def6ddd60079c1dfe48334cfb46f23"
   }
  }
 },
 "nbformat": 4,
 "nbformat_minor": 2
}
